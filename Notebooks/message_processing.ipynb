{
 "cells": [
  {
   "cell_type": "markdown",
   "metadata": {
    "application/vnd.databricks.v1+cell": {
     "cellMetadata": {
      "byteLimit": 2048000,
      "rowLimit": 10000
     },
     "inputWidgets": {},
     "nuid": "53de573f-d97e-49f6-a8ac-d710c688fe6b",
     "showTitle": false,
     "title": ""
    }
   },
   "source": [
    "### Import the required libraries for service bus and ML model"
   ]
  },
  {
   "cell_type": "code",
   "execution_count": 0,
   "metadata": {
    "application/vnd.databricks.v1+cell": {
     "cellMetadata": {
      "byteLimit": 2048000,
      "rowLimit": 10000
     },
     "inputWidgets": {},
     "nuid": "31f49aeb-bcc0-41f2-aa8b-773520015c51",
     "showTitle": false,
     "title": ""
    }
   },
   "outputs": [],
   "source": [
    "import asyncio\n",
    "from azure.servicebus.aio import ServiceBusClient\n",
    "from pyspark.sql.functions import *\n",
    "from pyspark.sql.types import *\n",
    "from datetime import date, datetime\n",
    "import re\n",
    "import time\n",
    "from transformers import pipeline\n"
   ]
  },
  {
   "cell_type": "markdown",
   "metadata": {
    "application/vnd.databricks.v1+cell": {
     "cellMetadata": {
      "byteLimit": 2048000,
      "rowLimit": 10000
     },
     "inputWidgets": {},
     "nuid": "92297a86-23bb-43a9-8d23-63b5a4c0dc6e",
     "showTitle": false,
     "title": ""
    }
   },
   "source": [
    "### Fetching the pre-trained model for sentiment analysis"
   ]
  },
  {
   "cell_type": "code",
   "execution_count": 0,
   "metadata": {
    "application/vnd.databricks.v1+cell": {
     "cellMetadata": {
      "byteLimit": 2048000,
      "rowLimit": 10000
     },
     "inputWidgets": {},
     "nuid": "801e67de-243e-42b2-b41e-b837b7b7cc47",
     "showTitle": false,
     "title": ""
    }
   },
   "outputs": [
    {
     "output_type": "display_data",
     "data": {
      "application/vnd.jupyter.widget-view+json": {
       "model_id": "e1c467e483ab47f5b503dd0cde0c1078",
       "version_major": 2,
       "version_minor": 0
      },
      "text/plain": [
       "Downloading (…)lve/main/config.json:   0%|          | 0.00/949 [00:00<?, ?B/s]"
      ]
     },
     "metadata": {},
     "output_type": "display_data"
    },
    {
     "output_type": "display_data",
     "data": {
      "application/vnd.jupyter.widget-view+json": {
       "model_id": "ac7fea4567894da7a757decd1f97a686",
       "version_major": 2,
       "version_minor": 0
      },
      "text/plain": [
       "Downloading tf_model.h5:   0%|          | 0.00/540M [00:00<?, ?B/s]"
      ]
     },
     "metadata": {},
     "output_type": "display_data"
    },
    {
     "output_type": "stream",
     "name": "stdout",
     "output_type": "stream",
     "text": [
      "All model checkpoint layers were used when initializing TFRobertaForSequenceClassification.\n\nAll the layers of TFRobertaForSequenceClassification were initialized from the model checkpoint at finiteautomata/bertweet-base-sentiment-analysis.\nIf your task is similar to the task the model of the checkpoint was trained on, you can already use TFRobertaForSequenceClassification for predictions without further training.\n"
     ]
    },
    {
     "output_type": "display_data",
     "data": {
      "application/vnd.jupyter.widget-view+json": {
       "model_id": "04b7187e757c4e348309b0db3da17ca4",
       "version_major": 2,
       "version_minor": 0
      },
      "text/plain": [
       "Downloading (…)okenizer_config.json:   0%|          | 0.00/338 [00:00<?, ?B/s]"
      ]
     },
     "metadata": {},
     "output_type": "display_data"
    },
    {
     "output_type": "display_data",
     "data": {
      "application/vnd.jupyter.widget-view+json": {
       "model_id": "ecb0d4ea095b4957a5ab3d04798e2c1e",
       "version_major": 2,
       "version_minor": 0
      },
      "text/plain": [
       "Downloading (…)solve/main/vocab.txt:   0%|          | 0.00/843k [00:00<?, ?B/s]"
      ]
     },
     "metadata": {},
     "output_type": "display_data"
    },
    {
     "output_type": "display_data",
     "data": {
      "application/vnd.jupyter.widget-view+json": {
       "model_id": "e30f954e13ae4c01a71826eee9574a53",
       "version_major": 2,
       "version_minor": 0
      },
      "text/plain": [
       "Downloading (…)solve/main/bpe.codes:   0%|          | 0.00/1.08M [00:00<?, ?B/s]"
      ]
     },
     "metadata": {},
     "output_type": "display_data"
    },
    {
     "output_type": "display_data",
     "data": {
      "application/vnd.jupyter.widget-view+json": {
       "model_id": "06156b153f284b668ddb21a95e5d556f",
       "version_major": 2,
       "version_minor": 0
      },
      "text/plain": [
       "Downloading (…)in/added_tokens.json:   0%|          | 0.00/22.0 [00:00<?, ?B/s]"
      ]
     },
     "metadata": {},
     "output_type": "display_data"
    },
    {
     "output_type": "display_data",
     "data": {
      "application/vnd.jupyter.widget-view+json": {
       "model_id": "658bf77c4e1b448dac48444cd2cec426",
       "version_major": 2,
       "version_minor": 0
      },
      "text/plain": [
       "Downloading (…)cial_tokens_map.json:   0%|          | 0.00/167 [00:00<?, ?B/s]"
      ]
     },
     "metadata": {},
     "output_type": "display_data"
    }
   ],
   "source": [
    "model_path_1=\"finiteautomata/bertweet-base-sentiment-analysis\"\n",
    "sentiment_analysis = pipeline(\"sentiment-analysis\", model=model_path_1)"
   ]
  },
  {
   "cell_type": "markdown",
   "metadata": {
    "application/vnd.databricks.v1+cell": {
     "cellMetadata": {
      "byteLimit": 2048000,
      "rowLimit": 10000
     },
     "inputWidgets": {},
     "nuid": "10f40d47-1239-46a6-bc38-170e34c84b54",
     "showTitle": false,
     "title": ""
    }
   },
   "source": [
    "### Creating a schema"
   ]
  },
  {
   "cell_type": "code",
   "execution_count": 0,
   "metadata": {
    "application/vnd.databricks.v1+cell": {
     "cellMetadata": {
      "byteLimit": 2048000,
      "implicitDf": true,
      "rowLimit": 10000
     },
     "inputWidgets": {},
     "nuid": "2827e2b8-5289-4a97-8473-197a76902b55",
     "showTitle": false,
     "title": ""
    }
   },
   "outputs": [
    {
     "output_type": "display_data",
     "data": {
      "text/html": [
       "<style scoped>\n",
       "  .table-result-container {\n",
       "    max-height: 300px;\n",
       "    overflow: auto;\n",
       "  }\n",
       "  table, th, td {\n",
       "    border: 1px solid black;\n",
       "    border-collapse: collapse;\n",
       "  }\n",
       "  th, td {\n",
       "    padding: 5px;\n",
       "  }\n",
       "  th {\n",
       "    text-align: left;\n",
       "  }\n",
       "</style><div class='table-result-container'><table class='table-result'><thead style='background-color: white'><tr></tr></thead><tbody></tbody></table></div>"
      ]
     },
     "metadata": {
      "application/vnd.databricks.v1+output": {
       "addedWidgets": {},
       "aggData": [],
       "aggError": "",
       "aggOverflow": false,
       "aggSchema": [],
       "aggSeriesLimitReached": false,
       "aggType": "",
       "arguments": {},
       "columnCustomDisplayInfos": {},
       "data": [],
       "datasetInfos": [],
       "dbfsResultPath": null,
       "isJsonSchema": true,
       "metadata": {},
       "overflow": false,
       "plotOptions": {
        "customPlotOptions": {},
        "displayType": "table",
        "pivotAggregation": null,
        "pivotColumns": null,
        "xColumns": null,
        "yColumns": null
       },
       "removedWidgets": [],
       "schema": [],
       "type": "table"
      }
     },
     "output_type": "display_data"
    }
   ],
   "source": [
    "%sql\n",
    "\n",
    "CREATE SCHEMA IF NOT EXISTS git_demo"
   ]
  },
  {
   "cell_type": "markdown",
   "metadata": {
    "application/vnd.databricks.v1+cell": {
     "cellMetadata": {
      "byteLimit": 2048000,
      "rowLimit": 10000
     },
     "inputWidgets": {},
     "nuid": "92d2470f-99a8-425e-8a41-cd9da9fd1135",
     "showTitle": false,
     "title": ""
    }
   },
   "source": [
    "### Create a function to save the processed data into the delta lake"
   ]
  },
  {
   "cell_type": "code",
   "execution_count": 0,
   "metadata": {
    "application/vnd.databricks.v1+cell": {
     "cellMetadata": {
      "byteLimit": 2048000,
      "rowLimit": 10000
     },
     "inputWidgets": {},
     "nuid": "c61754f7-3033-4875-a844-98b7456c2ac8",
     "showTitle": false,
     "title": ""
    }
   },
   "outputs": [],
   "source": [
    "def save_record(results):\n",
    "    resultCols=['labels','message','score']\n",
    "    results_data=spark.createDataFrame(data=results, schema = resultCols)\n",
    "    resultant=results_data.withColumn(\"timestamp\",current_timestamp())\n",
    "    resultant.write.mode(\"append\").saveAsTable(\"git_demo.sentiment_analysis_result\")"
   ]
  },
  {
   "cell_type": "markdown",
   "metadata": {
    "application/vnd.databricks.v1+cell": {
     "cellMetadata": {
      "byteLimit": 2048000,
      "rowLimit": 10000
     },
     "inputWidgets": {},
     "nuid": "f4cdba90-b600-43b3-847f-8c4e87421d10",
     "showTitle": false,
     "title": ""
    }
   },
   "source": [
    "### Connection the messages from the Azure Service Bus receiver end"
   ]
  },
  {
   "cell_type": "code",
   "execution_count": 0,
   "metadata": {
    "application/vnd.databricks.v1+cell": {
     "cellMetadata": {
      "byteLimit": 2048000,
      "rowLimit": 10000
     },
     "inputWidgets": {},
     "nuid": "de36ce61-7180-45ba-a403-4c8618665802",
     "showTitle": false,
     "title": ""
    }
   },
   "outputs": [],
   "source": [
    "\n",
    "\n",
    "#Parameters to have the connection for the Azure Service Bus \n",
    "\n",
    "conn_parameters=spark.read.json('/gitdemo/parameters/lparameters.json')\n",
    "\n",
    "NAMESPACE_CONNECTION_STR=conn_parameters.collect()[0]['conn_string']\n",
    "SUBSCRIPTION_NAME=conn_parameters.collect()[0]['subscription']\n",
    "TOPIC_NAME=conn_parameters.collect()[0]['topic']"
   ]
  },
  {
   "cell_type": "markdown",
   "metadata": {
    "application/vnd.databricks.v1+cell": {
     "cellMetadata": {
      "byteLimit": 2048000,
      "rowLimit": 10000
     },
     "inputWidgets": {},
     "nuid": "8f0b2dd8-6869-43c6-bf33-43c15825b637",
     "showTitle": false,
     "title": ""
    }
   },
   "source": [
    "### Fetching the messages from the Azure Service Bus receiver end"
   ]
  },
  {
   "cell_type": "code",
   "execution_count": 0,
   "metadata": {
    "application/vnd.databricks.v1+cell": {
     "cellMetadata": {
      "byteLimit": 2048000,
      "rowLimit": 10000
     },
     "inputWidgets": {},
     "nuid": "d53dded2-f2ad-462d-86cf-60fa3a334f54",
     "showTitle": false,
     "title": ""
    }
   },
   "outputs": [],
   "source": [
    "async def run():\n",
    "    # create a Service Bus client using the credential\n",
    "    async with ServiceBusClient.from_connection_string(\n",
    "        conn_str=NAMESPACE_CONNECTION_STR,\n",
    "        logging_enable=True) as servicebus_client:\n",
    "\n",
    "        async with servicebus_client:\n",
    "            # get the Subscription Receiver object for the subscription\n",
    "            receiver = servicebus_client.get_subscription_receiver(topic_name=TOPIC_NAME, \n",
    "            subscription_name=SUBSCRIPTION_NAME, max_wait_time=5)\n",
    "            message_list=[]\n",
    "            async with receiver:\n",
    "                received_msgs = await receiver.receive_messages(max_wait_time=20, max_message_count=50)\n",
    "                for msg in received_msgs:\n",
    "                    print(\"Received: \" + str(msg))\n",
    "                    #message_list.append(json_object) \n",
    "                    message_list.append(str(msg)) \n",
    "                    # complete the message so that the message is removed from the subscription\n",
    "                    await receiver.complete_message(msg)\n",
    "                # call the sentiment analysis model\n",
    "                results=sentiment_analysis(message_list)\n",
    "\n",
    "                print(\"results =>\", results)\n",
    "                for bs_msg in range(len(results)):\n",
    "                    results[bs_msg]['message']=message_list[bs_msg]\n",
    "                # save the record into the delta table\n",
    "                if len(results)==0:\n",
    "                    print(\"No received messages\")\n",
    "                else:\n",
    "                    save_record(results)  "
   ]
  },
  {
   "cell_type": "markdown",
   "metadata": {
    "application/vnd.databricks.v1+cell": {
     "cellMetadata": {
      "byteLimit": 2048000,
      "rowLimit": 10000
     },
     "inputWidgets": {},
     "nuid": "97bdae7e-fca5-4979-8dbe-1c1af9763d98",
     "showTitle": false,
     "title": ""
    }
   },
   "source": [
    "#### Continuous the fetching of messages in a regular interval"
   ]
  },
  {
   "cell_type": "code",
   "execution_count": 0,
   "metadata": {
    "application/vnd.databricks.v1+cell": {
     "cellMetadata": {
      "byteLimit": 2048000,
      "rowLimit": 10000
     },
     "inputWidgets": {},
     "nuid": "fae11f79-ccb7-4212-949c-5658df098506",
     "showTitle": false,
     "title": ""
    }
   },
   "outputs": [
    {
     "output_type": "stream",
     "name": "stdout",
     "output_type": "stream",
     "text": [
      "Received: Tiring day\nresults => [{'label': 'NEU', 'score': 0.9386323690414429}]\nTime: 2023-05-08 07:02:05.757129\nresults => []\nNo received messages\nTime: 2023-05-08 07:02:31.801369\nresults => []\nNo received messages\nTime: 2023-05-08 07:02:57.839927\nresults => []\nNo received messages\nTime: 2023-05-08 07:03:23.872569\nresults => []\nNo received messages\nTime: 2023-05-08 07:03:49.918268\nresults => []\nNo received messages\nTime: 2023-05-08 07:04:15.955813\nresults => []\nNo received messages\nTime: 2023-05-08 07:04:41.994894\nresults => []\nNo received messages\nTime: 2023-05-08 07:05:08.029943\nresults => []\nNo received messages\nTime: 2023-05-08 07:05:34.067814\nresults => []\nNo received messages\nTime: 2023-05-08 07:06:00.114272\nresults => []\nNo received messages\nTime: 2023-05-08 07:06:26.159467\nresults => []\nNo received messages\nTime: 2023-05-08 07:06:52.199096\nresults => []\nNo received messages\nTime: 2023-05-08 07:07:18.245892\nresults => []\nNo received messages\nTime: 2023-05-08 07:07:44.282537\nresults => []\nNo received messages\nTime: 2023-05-08 07:08:10.316070\nresults => []\nNo received messages\nTime: 2023-05-08 07:08:36.356783\nresults => []\nNo received messages\nTime: 2023-05-08 07:09:02.396542\nresults => []\nNo received messages\nTime: 2023-05-08 07:09:28.443061\nresults => []\nNo received messages\nTime: 2023-05-08 07:09:54.483023\nresults => []\nNo received messages\nTime: 2023-05-08 07:10:20.523529\n"
     ]
    }
   ],
   "source": [
    "\n",
    "#Initiate the call to the service bus from notebook\n",
    "while True:\n",
    "   await run()\n",
    "   time.sleep(5)\n",
    "   print(\"Time:\",datetime.now())"
   ]
  },
  {
   "cell_type": "code",
   "execution_count": 0,
   "metadata": {
    "application/vnd.databricks.v1+cell": {
     "cellMetadata": {
      "byteLimit": 2048000,
      "rowLimit": 10000
     },
     "inputWidgets": {},
     "nuid": "43222163-7659-43d5-918f-328f3e23677a",
     "showTitle": false,
     "title": ""
    }
   },
   "outputs": [],
   "source": []
  }
 ],
 "metadata": {
  "application/vnd.databricks.v1+notebook": {
   "dashboards": [],
   "language": "python",
   "notebookMetadata": {
    "mostRecentlyExecutedCommandWithImplicitDF": {
     "commandId": 3184315038828958,
     "dataframes": [
      "_sqldf"
     ]
    },
    "pythonIndentUnit": 4
   },
   "notebookName": "message_processing",
   "notebookOrigID": 1731416566601470,
   "widgets": {}
  }
 },
 "nbformat": 4,
 "nbformat_minor": 0
}
