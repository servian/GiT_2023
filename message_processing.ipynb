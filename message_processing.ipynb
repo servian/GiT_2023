{
 "cells": [
  {
   "cell_type": "markdown",
   "metadata": {
    "application/vnd.databricks.v1+cell": {
     "cellMetadata": {
      "byteLimit": 2048000,
      "rowLimit": 10000
     },
     "inputWidgets": {},
     "nuid": "53de573f-d97e-49f6-a8ac-d710c688fe6b",
     "showTitle": false,
     "title": ""
    }
   },
   "source": [
    "### Import the required libraries for service bus and ML model"
   ]
  },
  {
   "cell_type": "code",
   "execution_count": 0,
   "metadata": {
    "application/vnd.databricks.v1+cell": {
     "cellMetadata": {
      "byteLimit": 2048000,
      "rowLimit": 10000
     },
     "inputWidgets": {},
     "nuid": "31f49aeb-bcc0-41f2-aa8b-773520015c51",
     "showTitle": false,
     "title": ""
    }
   },
   "outputs": [],
   "source": [
    "import asyncio\n",
    "from azure.servicebus.aio import ServiceBusClient\n",
    "from pyspark.sql.functions import *\n",
    "from pyspark.sql.types import *\n",
    "from datetime import date, datetime\n",
    "import re\n",
    "import time\n",
    "from transformers import pipeline\n"
   ]
  },
  {
   "cell_type": "markdown",
   "metadata": {
    "application/vnd.databricks.v1+cell": {
     "cellMetadata": {
      "byteLimit": 2048000,
      "rowLimit": 10000
     },
     "inputWidgets": {},
     "nuid": "92297a86-23bb-43a9-8d23-63b5a4c0dc6e",
     "showTitle": false,
     "title": ""
    }
   },
   "source": [
    "### Fetching the pre-trained model for sentiment analysis"
   ]
  },
  {
   "cell_type": "code",
   "execution_count": 0,
   "metadata": {
    "application/vnd.databricks.v1+cell": {
     "cellMetadata": {
      "byteLimit": 2048000,
      "rowLimit": 10000
     },
     "inputWidgets": {},
     "nuid": "801e67de-243e-42b2-b41e-b837b7b7cc47",
     "showTitle": false,
     "title": ""
    }
   },
   "outputs": [
    {
     "output_type": "display_data",
     "data": {
      "application/vnd.jupyter.widget-view+json": {
       "model_id": "8e80a87b3b22450da27714af88b3f40c",
       "version_major": 2,
       "version_minor": 0
      },
      "text/plain": [
       "Downloading tf_model.h5:   0%|          | 0.00/540M [00:00<?, ?B/s]"
      ]
     },
     "metadata": {},
     "output_type": "display_data"
    },
    {
     "output_type": "stream",
     "name": "stdout",
     "output_type": "stream",
     "text": [
      "All model checkpoint layers were used when initializing TFRobertaForSequenceClassification.\n\nAll the layers of TFRobertaForSequenceClassification were initialized from the model checkpoint at finiteautomata/bertweet-base-sentiment-analysis.\nIf your task is similar to the task the model of the checkpoint was trained on, you can already use TFRobertaForSequenceClassification for predictions without further training.\n"
     ]
    },
    {
     "output_type": "display_data",
     "data": {
      "application/vnd.jupyter.widget-view+json": {
       "model_id": "66342c2a80d24f228cbfaa8f1a2b4d07",
       "version_major": 2,
       "version_minor": 0
      },
      "text/plain": [
       "Downloading (…)okenizer_config.json:   0%|          | 0.00/338 [00:00<?, ?B/s]"
      ]
     },
     "metadata": {},
     "output_type": "display_data"
    },
    {
     "output_type": "display_data",
     "data": {
      "application/vnd.jupyter.widget-view+json": {
       "model_id": "159aa0c7683c4030987ef5283c41b754",
       "version_major": 2,
       "version_minor": 0
      },
      "text/plain": [
       "Downloading (…)solve/main/vocab.txt:   0%|          | 0.00/843k [00:00<?, ?B/s]"
      ]
     },
     "metadata": {},
     "output_type": "display_data"
    },
    {
     "output_type": "display_data",
     "data": {
      "application/vnd.jupyter.widget-view+json": {
       "model_id": "1ac0791d0f604591ad4df426a8be95fc",
       "version_major": 2,
       "version_minor": 0
      },
      "text/plain": [
       "Downloading (…)solve/main/bpe.codes:   0%|          | 0.00/1.08M [00:00<?, ?B/s]"
      ]
     },
     "metadata": {},
     "output_type": "display_data"
    },
    {
     "output_type": "display_data",
     "data": {
      "application/vnd.jupyter.widget-view+json": {
       "model_id": "a328925944f34e09a70446df56fe9133",
       "version_major": 2,
       "version_minor": 0
      },
      "text/plain": [
       "Downloading (…)in/added_tokens.json:   0%|          | 0.00/22.0 [00:00<?, ?B/s]"
      ]
     },
     "metadata": {},
     "output_type": "display_data"
    },
    {
     "output_type": "display_data",
     "data": {
      "application/vnd.jupyter.widget-view+json": {
       "model_id": "0d5edd779ccb404eadaee9e3f1890801",
       "version_major": 2,
       "version_minor": 0
      },
      "text/plain": [
       "Downloading (…)cial_tokens_map.json:   0%|          | 0.00/167 [00:00<?, ?B/s]"
      ]
     },
     "metadata": {},
     "output_type": "display_data"
    }
   ],
   "source": [
    "model_path_1=\"finiteautomata/bertweet-base-sentiment-analysis\"\n",
    "sentiment_analysis = pipeline(\"sentiment-analysis\", model=model_path_1)"
   ]
  },
  {
   "cell_type": "markdown",
   "metadata": {
    "application/vnd.databricks.v1+cell": {
     "cellMetadata": {
      "byteLimit": 2048000,
      "rowLimit": 10000
     },
     "inputWidgets": {},
     "nuid": "92d2470f-99a8-425e-8a41-cd9da9fd1135",
     "showTitle": false,
     "title": ""
    }
   },
   "source": [
    "### Create a function to save the processed data into the delta lake"
   ]
  },
  {
   "cell_type": "code",
   "execution_count": 0,
   "metadata": {
    "application/vnd.databricks.v1+cell": {
     "cellMetadata": {
      "byteLimit": 2048000,
      "rowLimit": 10000
     },
     "inputWidgets": {},
     "nuid": "c61754f7-3033-4875-a844-98b7456c2ac8",
     "showTitle": false,
     "title": ""
    }
   },
   "outputs": [],
   "source": [
    "def save_record(results):\n",
    "    resultCols=['labels','message','score']\n",
    "    results_data=spark.createDataFrame(data=results, schema = resultCols)\n",
    "    resultant=results_data.withColumn(\"timestamp\",current_timestamp())\n",
    "    resultant.write.mode(\"append\").saveAsTable(\"sentiment_analysis_result\")"
   ]
  },
  {
   "cell_type": "markdown",
   "metadata": {
    "application/vnd.databricks.v1+cell": {
     "cellMetadata": {
      "byteLimit": 2048000,
      "rowLimit": 10000
     },
     "inputWidgets": {},
     "nuid": "f4cdba90-b600-43b3-847f-8c4e87421d10",
     "showTitle": false,
     "title": ""
    }
   },
   "source": [
    "### Connection the messages from the Azure Service Bus receiver end"
   ]
  },
  {
   "cell_type": "code",
   "execution_count": 0,
   "metadata": {
    "application/vnd.databricks.v1+cell": {
     "cellMetadata": {
      "byteLimit": 2048000,
      "rowLimit": 10000
     },
     "inputWidgets": {},
     "nuid": "de36ce61-7180-45ba-a403-4c8618665802",
     "showTitle": false,
     "title": ""
    }
   },
   "outputs": [],
   "source": [
    "\n",
    "\n",
    "#Parameters to have the connection for the Azure Service Bus \n",
    "\n",
    "conn_parameters=spark.read.json('/gitdemo/parameters/lparameters.json')\n",
    "\n",
    "NAMESPACE_CONNECTION_STR=conn_parameters.collect()[0]['conn_string']\n",
    "SUBSCRIPTION_NAME=conn_parameters.collect()[0]['subscription']\n",
    "TOPIC_NAME=conn_parameters.collect()[0]['topic']"
   ]
  },
  {
   "cell_type": "markdown",
   "metadata": {
    "application/vnd.databricks.v1+cell": {
     "cellMetadata": {},
     "inputWidgets": {},
     "nuid": "8f0b2dd8-6869-43c6-bf33-43c15825b637",
     "showTitle": false,
     "title": ""
    }
   },
   "source": [
    "### Fetching the messages from the Azure Service Bus receiver end"
   ]
  },
  {
   "cell_type": "code",
   "execution_count": 0,
   "metadata": {
    "application/vnd.databricks.v1+cell": {
     "cellMetadata": {
      "byteLimit": 2048000,
      "rowLimit": 10000
     },
     "inputWidgets": {},
     "nuid": "d53dded2-f2ad-462d-86cf-60fa3a334f54",
     "showTitle": false,
     "title": ""
    }
   },
   "outputs": [],
   "source": [
    "async def run():\n",
    "    # create a Service Bus client using the credential\n",
    "    async with ServiceBusClient.from_connection_string(\n",
    "        conn_str=NAMESPACE_CONNECTION_STR,\n",
    "        logging_enable=True) as servicebus_client:\n",
    "\n",
    "        async with servicebus_client:\n",
    "            # get the Subscription Receiver object for the subscription\n",
    "            receiver = servicebus_client.get_subscription_receiver(topic_name=TOPIC_NAME, \n",
    "            subscription_name=SUBSCRIPTION_NAME, max_wait_time=5)\n",
    "            message_list=[]\n",
    "            async with receiver:\n",
    "                received_msgs = await receiver.receive_messages(max_wait_time=20, max_message_count=50)\n",
    "                for msg in received_msgs:\n",
    "                    print(\"Received: \" + str(msg))\n",
    "                    #message_list.append(json_object) \n",
    "                    message_list.append(str(msg)) \n",
    "                    # complete the message so that the message is removed from the subscription\n",
    "                    await receiver.complete_message(msg)\n",
    "                # call the sentiment analysis model\n",
    "                results=sentiment_analysis(message_list)\n",
    "                for bs_msg in range(len(results)):\n",
    "                    results[bs_msg]['message']=message_list[bs_msg]\n",
    "                # save the record into the delta table\n",
    "                if len(results)==0:\n",
    "                    print(\"No messages received\")\n",
    "                else:\n",
    "                    save_record(results)  "
   ]
  },
  {
   "cell_type": "markdown",
   "metadata": {
    "application/vnd.databricks.v1+cell": {
     "cellMetadata": {},
     "inputWidgets": {},
     "nuid": "97bdae7e-fca5-4979-8dbe-1c1af9763d98",
     "showTitle": false,
     "title": ""
    }
   },
   "source": [
    "#### Continuous the fetching of messages in a regular interval"
   ]
  },
  {
   "cell_type": "code",
   "execution_count": 0,
   "metadata": {
    "application/vnd.databricks.v1+cell": {
     "cellMetadata": {
      "byteLimit": 2048000,
      "rowLimit": 10000
     },
     "inputWidgets": {},
     "nuid": "fae11f79-ccb7-4212-949c-5658df098506",
     "showTitle": false,
     "title": ""
    }
   },
   "outputs": [
    {
     "output_type": "stream",
     "name": "stdout",
     "output_type": "stream",
     "text": [
      "no record\nTime: 2023-05-04 07:22:27.898739\nno record\nTime: 2023-05-04 07:22:53.936407\nno record\nTime: 2023-05-04 07:23:19.971654\nno record\nTime: 2023-05-04 07:23:46.011410\nno record\nTime: 2023-05-04 07:24:12.049947\nno record\nTime: 2023-05-04 07:24:38.100385\nno record\nTime: 2023-05-04 07:25:04.134922\nno record\nTime: 2023-05-04 07:25:30.174101\nno record\nTime: 2023-05-04 07:25:56.220407\nReceived: hello, this is point\nTime: 2023-05-04 07:26:25.302523\nReceived: This is not so good \nTime: 2023-05-04 07:26:33.309206\nno record\nTime: 2023-05-04 07:26:59.344417\nReceived: This is so good \nTime: 2023-05-04 07:27:24.720918\nno record\nTime: 2023-05-04 07:27:50.765468\nno record\nTime: 2023-05-04 07:28:16.813432\nno record\nTime: 2023-05-04 07:28:42.859864\nno record\nTime: 2023-05-04 07:29:08.892403\nno record\nTime: 2023-05-04 07:29:34.937268\nno record\nTime: 2023-05-04 07:30:00.978426\nno record\n"
     ]
    }
   ],
   "source": [
    "\n",
    "#Initiate the call to the service bus from notebook\n",
    "while True:\n",
    "   await run()\n",
    "   time.sleep(5)\n",
    "   print(\"Time:\",datetime.now())"
   ]
  },
  {
   "cell_type": "code",
   "execution_count": 0,
   "metadata": {
    "application/vnd.databricks.v1+cell": {
     "cellMetadata": {
      "byteLimit": 2048000,
      "rowLimit": 10000
     },
     "inputWidgets": {},
     "nuid": "43222163-7659-43d5-918f-328f3e23677a",
     "showTitle": false,
     "title": ""
    }
   },
   "outputs": [],
   "source": []
  }
 ],
 "metadata": {
  "application/vnd.databricks.v1+notebook": {
   "dashboards": [],
   "language": "python",
   "notebookMetadata": {
    "mostRecentlyExecutedCommandWithImplicitDF": {
     "commandId": 1731416566601487,
     "dataframes": [
      "_sqldf"
     ]
    },
    "pythonIndentUnit": 4
   },
   "notebookName": "message_processing",
   "notebookOrigID": 1731416566601470,
   "widgets": {}
  }
 },
 "nbformat": 4,
 "nbformat_minor": 0
}
